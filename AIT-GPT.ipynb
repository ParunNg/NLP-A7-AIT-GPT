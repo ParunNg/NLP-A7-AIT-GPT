{
 "cells": [
  {
   "attachments": {},
   "cell_type": "markdown",
   "metadata": {},
   "source": [
    "# Natural Language Processing\n",
    "\n",
    "# Retrieval-Augmented generation (RAG)\n",
    "\n",
    "RAG is a technique for augmenting LLM knowledge with additional, often private or real-time, data.\n",
    "\n",
    "LLMs can reason about wide-ranging topics, but their knowledge is limited to the public data up to a specific point in time that they were trained on. If you want to build AI applications that can reason about private data or data introduced after a model’s cutoff date, you need to augment the knowledge of the model with the specific information it needs.\n",
    "\n",
    "Introducing `ChakyBot`, an innovative chatbot designed to assist Chaky (the instructor) and TA (Gun) in explaining the lesson of the NLP course to students. Leveraging LangChain technology, ChakyBot excels in retrieving information from documents, ensuring a seamless and efficient learning experience for students engaging with the NLP curriculum.\n",
    "\n",
    "1. Prompt\n",
    "2. Retrieval\n",
    "3. Memory\n",
    "4. Chain"
   ]
  },
  {
   "cell_type": "code",
   "execution_count": 1,
   "metadata": {},
   "outputs": [],
   "source": [
    "# #langchain library\n",
    "# !pip install langchain==0.1.0\n",
    "# #LLM\n",
    "# !pip install accelerate==0.25.0\n",
    "# !pip install transformers==4.36.2\n",
    "\n",
    "# !pip install bitsandbytes==0.41.2\n",
    "\n",
    "# #Text Embedding\n",
    "# !pip install sentence-transformers==2.2.2\n",
    "# !pip install InstructorEmbedding==1.0.1\n",
    "# #vectorstore\n",
    "# !pip install pymupdf==1.23.8\n",
    "# !pip install faiss-gpu==1.7.2\n",
    "# !pip install faiss-cpu==1.7.4"
   ]
  },
  {
   "cell_type": "code",
   "execution_count": 2,
   "metadata": {},
   "outputs": [
    {
     "data": {
      "text/plain": [
       "device(type='cuda')"
      ]
     },
     "execution_count": 2,
     "metadata": {},
     "output_type": "execute_result"
    }
   ],
   "source": [
    "import os\n",
    "import torch\n",
    "\n",
    "os.environ[\"TOKENIZERS_PARALLELISM\"] = \"True\"\n",
    "\n",
    "device = torch.device('cuda' if torch.cuda.is_available() else 'cpu')\n",
    "device"
   ]
  },
  {
   "attachments": {},
   "cell_type": "markdown",
   "metadata": {},
   "source": [
    "## 1. Prompt\n",
    "\n",
    "A set of instructions or input provided by a user to guide the model's response, helping it understand the context and generate relevant and coherent language-based output, such as answering questions, completing sentences, or engaging in a conversation."
   ]
  },
  {
   "cell_type": "code",
   "execution_count": 3,
   "metadata": {},
   "outputs": [
    {
     "data": {
      "text/plain": [
       "PromptTemplate(input_variables=['context', 'question'], template=\"I'm your friendly AIT chatbot named AIT-GPT, here to assist new students who are still unfamiliar with our campus.\\n    You can ask any questions you may have about AIT's history, policies, facilities, services or any related topics.\\n    I'll be sure to answer you to the best of my ability!!\\n    Context: {context}\\n    Question: {question}\\n    Answer:\")"
      ]
     },
     "execution_count": 3,
     "metadata": {},
     "output_type": "execute_result"
    }
   ],
   "source": [
    "from langchain import PromptTemplate\n",
    "\n",
    "prompt_template = \"\"\"\n",
    "    I'm your friendly AIT chatbot named AIT-GPT, here to assist new students who are still unfamiliar with our campus.\n",
    "    You can ask any questions you may have about AIT's history, policies, facilities, services or any related topics.\n",
    "    I'll be sure to answer you to the best of my ability!!\n",
    "    Context: {context}\n",
    "    Question: {question}\n",
    "    Answer:\n",
    "    \"\"\".strip()\n",
    "\n",
    "PROMPT = PromptTemplate.from_template(\n",
    "    template = prompt_template\n",
    ")\n",
    "\n",
    "PROMPT\n",
    "#using str.format \n",
    "#The placeholder is defined using curly brackets: {} {}"
   ]
  },
  {
   "cell_type": "code",
   "execution_count": 4,
   "metadata": {},
   "outputs": [
    {
     "data": {
      "text/plain": [
       "\"I'm your friendly AIT chatbot named AIT-GPT, here to assist new students who are still unfamiliar with our campus.\\n    You can ask any questions you may have about AIT's history, policies, facilities, services or any related topics.\\n    I'll be sure to answer you to the best of my ability!!\\n    Context: AIT's beautiful main campus located just north of Bangkok, Thailand, AIT operates as a self-contained international community with a cosmopolitan approach to living and learning.\\n    Question: Where is AIT's main campus located\\n    Answer:\""
      ]
     },
     "execution_count": 4,
     "metadata": {},
     "output_type": "execute_result"
    }
   ],
   "source": [
    "PROMPT.format(\n",
    "    context = \"AIT's beautiful main campus located just north of Bangkok, Thailand, AIT operates as a self-contained international community with a cosmopolitan approach to living and learning.\",\n",
    "    question = \"Where is AIT's main campus located\"\n",
    ")"
   ]
  },
  {
   "attachments": {},
   "cell_type": "markdown",
   "metadata": {},
   "source": [
    "Note : [How to improve prompting (Zero-shot, Few-shot, Chain-of-Thought, etc.](https://github.com/chaklam-silpasuwanchai/Natural-Language-Processing/blob/main/Code/05%20-%20RAG/advance/cot-tot-prompting.ipynb)"
   ]
  },
  {
   "attachments": {},
   "cell_type": "markdown",
   "metadata": {},
   "source": [
    "## 2. Retrieval\n",
    "\n",
    "1. `Document loaders` : Load documents from many different sources (HTML, PDF, code). \n",
    "2. `Document transformers` : One of the essential steps in document retrieval is breaking down a large document into smaller, relevant chunks to enhance the retrieval process.\n",
    "3. `Text embedding models` : Embeddings capture the semantic meaning of the text, allowing you to quickly and efficiently find other pieces of text that are similar.\n",
    "4. `Vector stores`: there has emerged a need for databases to support efficient storage and searching of these embeddings.\n",
    "5. `Retrievers` : Once the data is in the database, you still need to retrieve it."
   ]
  },
  {
   "attachments": {},
   "cell_type": "markdown",
   "metadata": {},
   "source": [
    "### 2.1 Document Loaders \n",
    "Use document loaders to load data from a source as Document's. A Document is a piece of text and associated metadata. For example, there are document loaders for loading a simple .txt file, for loading the text contents of any web page, or even for loading a transcript of a YouTube video.\n",
    "\n",
    "[PDF Loader](https://python.langchain.com/docs/modules/data_connection/document_loaders/pdf)\n",
    "\n",
    "[Download Document](https://web.stanford.edu/~jurafsky/slp3/)"
   ]
  },
  {
   "cell_type": "code",
   "execution_count": 5,
   "metadata": {},
   "outputs": [],
   "source": [
    "from langchain.document_loaders import PyMuPDFLoader\n",
    "\n",
    "nlp_docs = './docs/Student-Handbook_August-2023-Semester_FINAL_as-of-8-Aug-2023.pdf'\n",
    "\n",
    "loader = PyMuPDFLoader(nlp_docs)\n",
    "documents = loader.load()"
   ]
  },
  {
   "cell_type": "code",
   "execution_count": 6,
   "metadata": {},
   "outputs": [],
   "source": [
    "# documents"
   ]
  },
  {
   "cell_type": "code",
   "execution_count": 7,
   "metadata": {},
   "outputs": [
    {
     "data": {
      "text/plain": [
       "95"
      ]
     },
     "execution_count": 7,
     "metadata": {},
     "output_type": "execute_result"
    }
   ],
   "source": [
    "len(documents)"
   ]
  },
  {
   "cell_type": "code",
   "execution_count": 8,
   "metadata": {},
   "outputs": [
    {
     "data": {
      "text/plain": [
       "Document(page_content=' \\nTABLE OF CONTENTS \\n \\n \\nI. \\nIntroducing AIT \\n \\nII. \\nStudent Bill of Rights \\n \\nIII. \\nStudent Code of Conduct \\n \\nIV. \\nGuidance for New Students \\n \\nV. \\nStudent Welfare Unit and the AIT Career Center \\n \\nVI. \\nHarassment Policy \\n \\nVII. \\nSubstance Abuse Policy \\n \\nVIII. \\nEnvironment Policy \\n \\nIX. \\nStudent Organizations and Student Participation in Institute Governance \\n- Student Union \\n- Nationality Associations \\n- Student Participation in Institute Governance \\n \\nX. \\nCampus Facilities and Services \\n- Student Accommodation \\n- Visas \\n- Banking \\n- Dining \\n- Sports and Recreation \\n- Movies on Campus \\n- Religious Services \\n- Mails \\n- AIT Reception \\n- Office of Public Affairs (OPA) \\n- Books and Office Supplies \\n- English Language Training and Advising \\n- Library \\n- Internet and Other Campus Wide IT Services \\n- Child Schooling \\n- Medical Examination and Emergency \\n- Security Service \\n \\nXI. \\nGetting Around \\n- On Campus \\n- Off Campus \\n \\nXII. \\nCommuting and Travels Within/Outside Thailand \\nXIII. \\nShopping and Other Services \\nXIV. \\nOffice of Advancement (OADV) \\nXV. \\nWhom to Contact\\n', metadata={'source': './docs/Student-Handbook_August-2023-Semester_FINAL_as-of-8-Aug-2023.pdf', 'file_path': './docs/Student-Handbook_August-2023-Semester_FINAL_as-of-8-Aug-2023.pdf', 'page': 1, 'total_pages': 95, 'format': 'PDF 1.4', 'title': '(\\\\(NDIJobGUID=fb11135f-67cd-4d80-beec-458427a81384\\\\)Microsoft Word - Student Handbook_August 2023 Semester_FINAL_as of 8 Aug 2023)', 'author': 'Pwint', 'subject': '', 'keywords': '', 'creator': 'PScript5.dll Version 5.2.2', 'producer': 'GPL Ghostscript 9.06', 'creationDate': \"D:20230809142824+07'00'\", 'modDate': \"D:20230809142824+07'00'\", 'trapped': ''})"
      ]
     },
     "execution_count": 8,
     "metadata": {},
     "output_type": "execute_result"
    }
   ],
   "source": [
    "documents[1]"
   ]
  },
  {
   "attachments": {},
   "cell_type": "markdown",
   "metadata": {},
   "source": [
    "### 2.2 Document Transformers\n",
    "\n",
    "This text splitter is the recommended one for generic text. It is parameterized by a list of characters. It tries to split on them in order until the chunks are small enough"
   ]
  },
  {
   "cell_type": "code",
   "execution_count": 9,
   "metadata": {},
   "outputs": [],
   "source": [
    "from langchain.text_splitter import RecursiveCharacterTextSplitter\n",
    "\n",
    "text_splitter = RecursiveCharacterTextSplitter(\n",
    "    chunk_size = 700,\n",
    "    chunk_overlap = 100\n",
    ")\n",
    "\n",
    "doc = text_splitter.split_documents(documents)"
   ]
  },
  {
   "cell_type": "code",
   "execution_count": 10,
   "metadata": {},
   "outputs": [
    {
     "data": {
      "text/plain": [
       "Document(page_content='TABLE OF CONTENTS \\n \\n \\nI. \\nIntroducing AIT \\n \\nII. \\nStudent Bill of Rights \\n \\nIII. \\nStudent Code of Conduct \\n \\nIV. \\nGuidance for New Students \\n \\nV. \\nStudent Welfare Unit and the AIT Career Center \\n \\nVI. \\nHarassment Policy \\n \\nVII. \\nSubstance Abuse Policy \\n \\nVIII. \\nEnvironment Policy \\n \\nIX. \\nStudent Organizations and Student Participation in Institute Governance \\n- Student Union \\n- Nationality Associations \\n- Student Participation in Institute Governance \\n \\nX. \\nCampus Facilities and Services \\n- Student Accommodation \\n- Visas \\n- Banking \\n- Dining \\n- Sports and Recreation \\n- Movies on Campus \\n- Religious Services \\n- Mails \\n- AIT Reception \\n- Office of Public Affairs (OPA)', metadata={'source': './docs/Student-Handbook_August-2023-Semester_FINAL_as-of-8-Aug-2023.pdf', 'file_path': './docs/Student-Handbook_August-2023-Semester_FINAL_as-of-8-Aug-2023.pdf', 'page': 1, 'total_pages': 95, 'format': 'PDF 1.4', 'title': '(\\\\(NDIJobGUID=fb11135f-67cd-4d80-beec-458427a81384\\\\)Microsoft Word - Student Handbook_August 2023 Semester_FINAL_as of 8 Aug 2023)', 'author': 'Pwint', 'subject': '', 'keywords': '', 'creator': 'PScript5.dll Version 5.2.2', 'producer': 'GPL Ghostscript 9.06', 'creationDate': \"D:20230809142824+07'00'\", 'modDate': \"D:20230809142824+07'00'\", 'trapped': ''})"
      ]
     },
     "execution_count": 10,
     "metadata": {},
     "output_type": "execute_result"
    }
   ],
   "source": [
    "doc[1]"
   ]
  },
  {
   "cell_type": "code",
   "execution_count": 11,
   "metadata": {},
   "outputs": [
    {
     "data": {
      "text/plain": [
       "371"
      ]
     },
     "execution_count": 11,
     "metadata": {},
     "output_type": "execute_result"
    }
   ],
   "source": [
    "len(doc)"
   ]
  },
  {
   "attachments": {},
   "cell_type": "markdown",
   "metadata": {},
   "source": [
    "### 2.3 Text Embedding Models\n",
    "Embeddings create a vector representation of a piece of text. This is useful because it means we can think about text in the vector space, and do things like semantic search where we look for pieces of text that are most similar in the vector space.\n",
    "\n",
    "*Note* Instructor Model : [Huggingface](gingface.co/hkunlp/instructor-base) | [Paper](https://arxiv.org/abs/2212.09741)"
   ]
  },
  {
   "cell_type": "code",
   "execution_count": 12,
   "metadata": {},
   "outputs": [
    {
     "name": "stderr",
     "output_type": "stream",
     "text": [
      "/home/neoshocker/.local/lib/python3.10/site-packages/InstructorEmbedding/instructor.py:7: TqdmWarning: IProgress not found. Please update jupyter and ipywidgets. See https://ipywidgets.readthedocs.io/en/stable/user_install.html\n",
      "  from tqdm.autonotebook import trange\n"
     ]
    },
    {
     "name": "stderr",
     "output_type": "stream",
     "text": [
      "/home/neoshocker/.local/lib/python3.10/site-packages/transformers/utils/generic.py:441: UserWarning: torch.utils._pytree._register_pytree_node is deprecated. Please use torch.utils._pytree.register_pytree_node instead.\n",
      "  _torch_pytree._register_pytree_node(\n",
      "/home/neoshocker/.local/lib/python3.10/site-packages/transformers/utils/generic.py:309: UserWarning: torch.utils._pytree._register_pytree_node is deprecated. Please use torch.utils._pytree.register_pytree_node instead.\n",
      "  _torch_pytree._register_pytree_node(\n"
     ]
    },
    {
     "name": "stdout",
     "output_type": "stream",
     "text": [
      "load INSTRUCTOR_Transformer\n"
     ]
    },
    {
     "name": "stderr",
     "output_type": "stream",
     "text": [
      "/home/neoshocker/.local/lib/python3.10/site-packages/transformers/utils/generic.py:309: UserWarning: torch.utils._pytree._register_pytree_node is deprecated. Please use torch.utils._pytree.register_pytree_node instead.\n",
      "  _torch_pytree._register_pytree_node(\n"
     ]
    },
    {
     "name": "stdout",
     "output_type": "stream",
     "text": [
      "max_seq_length  512\n"
     ]
    }
   ],
   "source": [
    "import torch\n",
    "from langchain.embeddings import HuggingFaceInstructEmbeddings\n",
    "\n",
    "model_name = 'hkunlp/instructor-base'\n",
    "\n",
    "embedding_model = HuggingFaceInstructEmbeddings(\n",
    "    model_name = model_name,\n",
    "    model_kwargs = {\"device\" : device}\n",
    ")"
   ]
  },
  {
   "attachments": {},
   "cell_type": "markdown",
   "metadata": {},
   "source": [
    "### 2.4 Vector Stores\n",
    "\n",
    "One of the most common ways to store and search over unstructured data is to embed it and store the resulting embedding vectors, and then at query time to embed the unstructured query and retrieve the embedding vectors that are 'most similar' to the embedded query. A vector store takes care of storing embedded data and performing vector search for you."
   ]
  },
  {
   "cell_type": "code",
   "execution_count": 13,
   "metadata": {},
   "outputs": [],
   "source": [
    "#locate vectorstore\n",
    "vector_path = './vector-store'\n",
    "if not os.path.exists(vector_path):\n",
    "    os.makedirs(vector_path)\n",
    "    print('create path done')"
   ]
  },
  {
   "cell_type": "code",
   "execution_count": 14,
   "metadata": {},
   "outputs": [],
   "source": [
    "#save vector locally\n",
    "from langchain.vectorstores import FAISS\n",
    "\n",
    "vectordb = FAISS.from_documents(\n",
    "    documents = doc,\n",
    "    embedding = embedding_model\n",
    ")\n",
    "\n",
    "db_file_name = 'nlp_stanford'\n",
    "\n",
    "vectordb.save_local(\n",
    "    folder_path = os.path.join(vector_path, db_file_name),\n",
    "    index_name = 'nlp' #default index\n",
    ")"
   ]
  },
  {
   "attachments": {},
   "cell_type": "markdown",
   "metadata": {},
   "source": [
    "### 2.5 retrievers\n",
    "A retriever is an interface that returns documents given an unstructured query. It is more general than a vector store. A retriever does not need to be able to store documents, only to return (or retrieve) them. Vector stores can be used as the backbone of a retriever, but there are other types of retrievers as well."
   ]
  },
  {
   "cell_type": "code",
   "execution_count": 15,
   "metadata": {},
   "outputs": [],
   "source": [
    "#calling vector from local\n",
    "vector_path = './vector-store'\n",
    "db_file_name = 'nlp_stanford'\n",
    "\n",
    "from langchain.vectorstores import FAISS\n",
    "\n",
    "vectordb = FAISS.load_local(\n",
    "    folder_path = os.path.join(vector_path, db_file_name),\n",
    "    embeddings = embedding_model,\n",
    "    index_name = 'nlp' #default index\n",
    ")   "
   ]
  },
  {
   "cell_type": "code",
   "execution_count": 16,
   "metadata": {},
   "outputs": [],
   "source": [
    "#ready to use\n",
    "retriever = vectordb.as_retriever()"
   ]
  },
  {
   "cell_type": "code",
   "execution_count": 17,
   "metadata": {},
   "outputs": [
    {
     "data": {
      "text/plain": [
       "[Document(page_content='full month payment. \\n          \\n2.         Self-funded students are required to pay a one-month advance deposit. For new \\n \\n  \\n    students, the first invoice includes rental for two months. \\n          \\n3.         Special and exchange students are required to pay the rent in full for the whole  \\n \\n     duration of their stay on campus. The full payment will be reflected in the first invoice \\n \\n     upon registration. \\n          \\n4.      Rent does not include charges for utilities (electricity, water, unlimited        internet \\n \\n     access, etc.). \\n  \\n         \\n5. Payment made after 30 days from the date of an invoice, will generate', metadata={'source': './docs/Student-Handbook_August-2023-Semester_FINAL_as-of-8-Aug-2023.pdf', 'file_path': './docs/Student-Handbook_August-2023-Semester_FINAL_as-of-8-Aug-2023.pdf', 'page': 55, 'total_pages': 95, 'format': 'PDF 1.4', 'title': '(\\\\(NDIJobGUID=fb11135f-67cd-4d80-beec-458427a81384\\\\)Microsoft Word - Student Handbook_August 2023 Semester_FINAL_as of 8 Aug 2023)', 'author': 'Pwint', 'subject': '', 'keywords': '', 'creator': 'PScript5.dll Version 5.2.2', 'producer': 'GPL Ghostscript 9.06', 'creationDate': \"D:20230809142824+07'00'\", 'modDate': \"D:20230809142824+07'00'\", 'trapped': ''}),\n",
       " Document(page_content='5. Payment made after 30 days from the date of an invoice, will generate    \\n \\nan additional interest penalty of 1.5% per month. If the outstanding     \\n \\n amount exceeds two month’s rent, the student will be asked to vacate  \\nthe \\n \\n room. Further details are provided in the Credit Policy and    Procedures:  \\n \\nFB-6-1-1. \\n  \\nStudent Accommodation Rental Structure', metadata={'source': './docs/Student-Handbook_August-2023-Semester_FINAL_as-of-8-Aug-2023.pdf', 'file_path': './docs/Student-Handbook_August-2023-Semester_FINAL_as-of-8-Aug-2023.pdf', 'page': 55, 'total_pages': 95, 'format': 'PDF 1.4', 'title': '(\\\\(NDIJobGUID=fb11135f-67cd-4d80-beec-458427a81384\\\\)Microsoft Word - Student Handbook_August 2023 Semester_FINAL_as of 8 Aug 2023)', 'author': 'Pwint', 'subject': '', 'keywords': '', 'creator': 'PScript5.dll Version 5.2.2', 'producer': 'GPL Ghostscript 9.06', 'creationDate': \"D:20230809142824+07'00'\", 'modDate': \"D:20230809142824+07'00'\", 'trapped': ''}),\n",
       " Document(page_content='provided, will be fined Baht 2,000 and charged for cleaning services of  \\nthe \\n \\n unit. \\n          \\n10. Students who do not upkeep the standard conditions of the common area and \\nlandscape   around the building, particularly with reference to  \\ncluttering the        \\ncommon  \\n \\nareas/corridors and planting plants, will be fined      Baht 2,000 and charged for the  \\n \\ncleaning and removal services. \\n         \\nRental Charging System \\n  \\n         \\n1.    Accommodation rental is payable on the first day of each month. The     \\n \\n   half-month cut-off date is on the 15th and the last day of the month for a \\n \\n     full month payment.', metadata={'source': './docs/Student-Handbook_August-2023-Semester_FINAL_as-of-8-Aug-2023.pdf', 'file_path': './docs/Student-Handbook_August-2023-Semester_FINAL_as-of-8-Aug-2023.pdf', 'page': 55, 'total_pages': 95, 'format': 'PDF 1.4', 'title': '(\\\\(NDIJobGUID=fb11135f-67cd-4d80-beec-458427a81384\\\\)Microsoft Word - Student Handbook_August 2023 Semester_FINAL_as of 8 Aug 2023)', 'author': 'Pwint', 'subject': '', 'keywords': '', 'creator': 'PScript5.dll Version 5.2.2', 'producer': 'GPL Ghostscript 9.06', 'creationDate': \"D:20230809142824+07'00'\", 'modDate': \"D:20230809142824+07'00'\", 'trapped': ''}),\n",
       " Document(page_content='(v) \\nAllocation of new rooms to students (based on queuing) will not be \\nallowed for those with outstanding accommodation rentals. \\n \\n2. Faculty/Staff Accommodation Rental \\n \\n(i) \\nFaculty/Staff are required to pay two months deposit, which is collected \\nin advance. \\n \\n(ii) \\nInvoices will be billed monthly and payment will be made through \\ndeduction from monthly payroll account. \\n \\n(iii) \\nIn case of insufficient amount for deduction through payroll account, \\npenalty of 1.5% per month will be imposed on the balance that remains \\nunpaid. \\n \\n(iv) \\nIf a tenant defaults on any payment for a period of two successive \\nmonths, the housing lease agreement may be terminated by written', metadata={'source': './docs/Student-Handbook_August-2023-Semester_FINAL_as-of-8-Aug-2023.pdf', 'file_path': './docs/Student-Handbook_August-2023-Semester_FINAL_as-of-8-Aug-2023.pdf', 'page': 19, 'total_pages': 95, 'format': 'PDF 1.4', 'title': '(\\\\(NDIJobGUID=fb11135f-67cd-4d80-beec-458427a81384\\\\)Microsoft Word - Student Handbook_August 2023 Semester_FINAL_as of 8 Aug 2023)', 'author': 'Pwint', 'subject': '', 'keywords': '', 'creator': 'PScript5.dll Version 5.2.2', 'producer': 'GPL Ghostscript 9.06', 'creationDate': \"D:20230809142824+07'00'\", 'modDate': \"D:20230809142824+07'00'\", 'trapped': ''})]"
      ]
     },
     "execution_count": 17,
     "metadata": {},
     "output_type": "execute_result"
    }
   ],
   "source": [
    "retriever.get_relevant_documents(\"How much is the rental fee for dormitory\")"
   ]
  },
  {
   "cell_type": "code",
   "execution_count": 18,
   "metadata": {},
   "outputs": [
    {
     "data": {
      "text/plain": [
       "[Document(page_content='X. \\nCAMPUS FACILITIES AND SERVICES \\n \\n \\nStudent Accommodation on Campus \\n  \\nThe allocation of student accommodation is the responsibility of the \\nAccommodation Unit (ext. 5093). Any issue or concern involving student  \\nwelfare that is related to accommodation should be brought to the attention of \\nthe Director, Office of Student Affairs (OSA), on action required. \\n  \\nPolicy and Procedures on Student Accommodation: Eligibility and \\nAllocation \\n  \\nDefinition and Scope \\nA student accommodation is a unit under the following dorm \\ncategories Category 1:    \\nDorms A, B, C, D, F, G, H \\nCategory 2:    \\nDorms E, J, K \\nCategory 3:    \\nDorms L, M, N, P3, Q, R, S \\nCategory 4:', metadata={'source': './docs/Student-Handbook_August-2023-Semester_FINAL_as-of-8-Aug-2023.pdf', 'file_path': './docs/Student-Handbook_August-2023-Semester_FINAL_as-of-8-Aug-2023.pdf', 'page': 48, 'total_pages': 95, 'format': 'PDF 1.4', 'title': '(\\\\(NDIJobGUID=fb11135f-67cd-4d80-beec-458427a81384\\\\)Microsoft Word - Student Handbook_August 2023 Semester_FINAL_as of 8 Aug 2023)', 'author': 'Pwint', 'subject': '', 'keywords': '', 'creator': 'PScript5.dll Version 5.2.2', 'producer': 'GPL Ghostscript 9.06', 'creationDate': \"D:20230809142824+07'00'\", 'modDate': \"D:20230809142824+07'00'\", 'trapped': ''}),\n",
       " Document(page_content='with reference to any of his/her Institute opportunities, services, facilities, \\nbenefits or support. \\n \\n4.3 \\nThe Institute will not tolerate discrimination on the basis of country, race, \\nancestry, color, ethnic origin, nepotism, locality of residence, social \\nbackground, gender, creed, ideology, age, marital status, family status, sexual \\norientation, handicap, or medical condition. \\n \\n4.4 \\nDiscrimination also includes any act of communication whether oral, written, \\nelectronic or non-verbal, which promotes disrespect or intolerance for anyone \\nbased on the characteristics listed above. \\n \\nC. \\nRemedial action \\n \\n1. \\nGeneral principles \\n \\n1.1', metadata={'source': './docs/Student-Handbook_August-2023-Semester_FINAL_as-of-8-Aug-2023.pdf', 'file_path': './docs/Student-Handbook_August-2023-Semester_FINAL_as-of-8-Aug-2023.pdf', 'page': 37, 'total_pages': 95, 'format': 'PDF 1.4', 'title': '(\\\\(NDIJobGUID=fb11135f-67cd-4d80-beec-458427a81384\\\\)Microsoft Word - Student Handbook_August 2023 Semester_FINAL_as of 8 Aug 2023)', 'author': 'Pwint', 'subject': '', 'keywords': '', 'creator': 'PScript5.dll Version 5.2.2', 'producer': 'GPL Ghostscript 9.06', 'creationDate': \"D:20230809142824+07'00'\", 'modDate': \"D:20230809142824+07'00'\", 'trapped': ''}),\n",
       " Document(page_content='sensitivity, and solely for the purposes stated or implied in Institute objectives \\nand policies. \\n \\n5. The opportunities, services, facilities and support offered by AIT should be \\ncompatible with the purposes of the Institute, and be open impartially to everyone \\nin the community according to qualification, performance and achievement. There \\nshould be no denial or granting of rights or privileges wholly or partly, on irrelevant \\ngrounds such as race, nationality, gender, creed, age, marital status, handicap, or \\nphysical characteristics. \\n \\nB. Problem areas \\n \\nSexual and other forms of harassment, the abuse of supervisory authority, and', metadata={'source': './docs/Student-Handbook_August-2023-Semester_FINAL_as-of-8-Aug-2023.pdf', 'file_path': './docs/Student-Handbook_August-2023-Semester_FINAL_as-of-8-Aug-2023.pdf', 'page': 35, 'total_pages': 95, 'format': 'PDF 1.4', 'title': '(\\\\(NDIJobGUID=fb11135f-67cd-4d80-beec-458427a81384\\\\)Microsoft Word - Student Handbook_August 2023 Semester_FINAL_as of 8 Aug 2023)', 'author': 'Pwint', 'subject': '', 'keywords': '', 'creator': 'PScript5.dll Version 5.2.2', 'producer': 'GPL Ghostscript 9.06', 'creationDate': \"D:20230809142824+07'00'\", 'modDate': \"D:20230809142824+07'00'\", 'trapped': ''}),\n",
       " Document(page_content='their families to AIT, and informed that there are limited married \\naccommodation units. If married accommodation is not available, new', metadata={'source': './docs/Student-Handbook_August-2023-Semester_FINAL_as-of-8-Aug-2023.pdf', 'file_path': './docs/Student-Handbook_August-2023-Semester_FINAL_as-of-8-Aug-2023.pdf', 'page': 51, 'total_pages': 95, 'format': 'PDF 1.4', 'title': '(\\\\(NDIJobGUID=fb11135f-67cd-4d80-beec-458427a81384\\\\)Microsoft Word - Student Handbook_August 2023 Semester_FINAL_as of 8 Aug 2023)', 'author': 'Pwint', 'subject': '', 'keywords': '', 'creator': 'PScript5.dll Version 5.2.2', 'producer': 'GPL Ghostscript 9.06', 'creationDate': \"D:20230809142824+07'00'\", 'modDate': \"D:20230809142824+07'00'\", 'trapped': ''})]"
      ]
     },
     "execution_count": 18,
     "metadata": {},
     "output_type": "execute_result"
    }
   ],
   "source": [
    "retriever.get_relevant_documents(\"What are the accommodations available\")"
   ]
  },
  {
   "attachments": {},
   "cell_type": "markdown",
   "metadata": {},
   "source": [
    "## 3. Memory\n",
    "\n",
    "One of the core utility classes underpinning most (if not all) memory modules is the ChatMessageHistory class. This is a super lightweight wrapper that provides convenience methods for saving HumanMessages, AIMessages, and then fetching them all.\n",
    "\n",
    "You may want to use this class directly if you are managing memory outside of a chain.\n"
   ]
  },
  {
   "cell_type": "code",
   "execution_count": 19,
   "metadata": {},
   "outputs": [
    {
     "data": {
      "text/plain": [
       "ChatMessageHistory(messages=[])"
      ]
     },
     "execution_count": 19,
     "metadata": {},
     "output_type": "execute_result"
    }
   ],
   "source": [
    "from langchain.memory import ChatMessageHistory\n",
    "\n",
    "history = ChatMessageHistory()\n",
    "history"
   ]
  },
  {
   "cell_type": "code",
   "execution_count": 20,
   "metadata": {},
   "outputs": [],
   "source": [
    "history.add_user_message('hi')\n",
    "history.add_ai_message('Whats up?')\n",
    "history.add_user_message('How are you')\n",
    "history.add_ai_message('I\\'m quite good. How about you?')"
   ]
  },
  {
   "cell_type": "code",
   "execution_count": 21,
   "metadata": {},
   "outputs": [
    {
     "data": {
      "text/plain": [
       "ChatMessageHistory(messages=[HumanMessage(content='hi'), AIMessage(content='Whats up?'), HumanMessage(content='How are you'), AIMessage(content=\"I'm quite good. How about you?\")])"
      ]
     },
     "execution_count": 21,
     "metadata": {},
     "output_type": "execute_result"
    }
   ],
   "source": [
    "history"
   ]
  },
  {
   "attachments": {},
   "cell_type": "markdown",
   "metadata": {},
   "source": [
    "### 3.1 Memory types\n",
    "\n",
    "There are many different types of memory. Each has their own parameters, their own return types, and is useful in different scenarios. \n",
    "- Converstaion Buffer\n",
    "- Converstaion Buffer Window"
   ]
  },
  {
   "attachments": {},
   "cell_type": "markdown",
   "metadata": {},
   "source": [
    "What variables get returned from memory\n",
    "\n",
    "Before going into the chain, various variables are read from memory. These have specific names which need to align with the variables the chain expects. You can see what these variables are by calling memory.load_memory_variables({}). Note that the empty dictionary that we pass in is just a placeholder for real variables. If the memory type you are using is dependent upon the input variables, you may need to pass some in."
   ]
  },
  {
   "attachments": {},
   "cell_type": "markdown",
   "metadata": {},
   "source": [
    "In this case, you can see that load_memory_variables returns a single key, history. This means that your chain (and likely your prompt) should expect an input named history. You can usually control this variable through parameters on the memory class. For example, if you want the memory variables to be returned in the key chat_history you can do:"
   ]
  },
  {
   "attachments": {},
   "cell_type": "markdown",
   "metadata": {},
   "source": [
    "#### Converstaion Buffer\n",
    "This memory allows for storing messages and then extracts the messages in a variable."
   ]
  },
  {
   "cell_type": "code",
   "execution_count": 22,
   "metadata": {},
   "outputs": [
    {
     "data": {
      "text/plain": [
       "{'history': \"Human: hi\\nAI: What's up?\\nHuman: How are you?\\nAI: I'm quite good. How about you?\"}"
      ]
     },
     "execution_count": 22,
     "metadata": {},
     "output_type": "execute_result"
    }
   ],
   "source": [
    "from langchain.memory import ConversationBufferMemory\n",
    "\n",
    "memory = ConversationBufferMemory()\n",
    "memory.save_context({'input':'hi'}, {'output':'What\\'s up?'})\n",
    "memory.save_context({\"input\":'How are you?'},{'output': 'I\\'m quite good. How about you?'})\n",
    "memory.load_memory_variables({})"
   ]
  },
  {
   "cell_type": "code",
   "execution_count": 23,
   "metadata": {},
   "outputs": [
    {
     "data": {
      "text/plain": [
       "{'history': [HumanMessage(content='hi'),\n",
       "  AIMessage(content=\"What's up?\"),\n",
       "  HumanMessage(content='How are you?'),\n",
       "  AIMessage(content=\"I'm quite good. How about you?\")]}"
      ]
     },
     "execution_count": 23,
     "metadata": {},
     "output_type": "execute_result"
    }
   ],
   "source": [
    "from langchain.memory import ConversationBufferMemory\n",
    "\n",
    "memory = ConversationBufferMemory(return_messages = True)\n",
    "memory.save_context({'input':'hi'}, {'output':'What\\'s up?'})\n",
    "memory.save_context({\"input\":'How are you?'},{'output': 'I\\'m quite good. How about you?'})\n",
    "memory.load_memory_variables({})"
   ]
  },
  {
   "attachments": {},
   "cell_type": "markdown",
   "metadata": {},
   "source": [
    "#### Conversation Buffer Window\n",
    "- it keeps a list of the interactions of the conversation over time. \n",
    "- it only uses the last K interactions. \n",
    "- it can be useful for keeping a sliding window of the most recent interactions, so the buffer does not get too large."
   ]
  },
  {
   "cell_type": "code",
   "execution_count": 24,
   "metadata": {},
   "outputs": [
    {
     "data": {
      "text/plain": [
       "{'history': \"Human: How are you?\\nAI: I'm quite good. How about you?\"}"
      ]
     },
     "execution_count": 24,
     "metadata": {},
     "output_type": "execute_result"
    }
   ],
   "source": [
    "from langchain.memory import ConversationBufferWindowMemory\n",
    "\n",
    "memory = ConversationBufferWindowMemory(k=1)\n",
    "memory.save_context({'input':'hi'}, {'output':'What\\'s up?'})\n",
    "memory.save_context({\"input\":'How are you?'},{'output': 'I\\'m quite good. How about you?'})\n",
    "memory.load_memory_variables({})"
   ]
  },
  {
   "attachments": {},
   "cell_type": "markdown",
   "metadata": {},
   "source": [
    "## 4. Chain\n",
    "\n",
    "Using an LLM in isolation is fine for simple applications, but more complex applications require chaining LLMs - either with each other or with other components.\n",
    "\n",
    "An `LLMChain` is a simple chain that adds some functionality around language models.\n",
    "- it consists of a `PromptTemplate` and a `LM` (either an LLM or chat model).\n",
    "- it formats the prompt template using the input key values provided (and also memory key values, if available), \n",
    "- it passes the formatted string to LLM and returns the LLM output.\n",
    "\n",
    "Note : [Download Fastchat Model Here](https://huggingface.co/lmsys/fastchat-t5-3b-v1.0)"
   ]
  },
  {
   "cell_type": "code",
   "execution_count": 25,
   "metadata": {},
   "outputs": [],
   "source": [
    "# %cd ./models\n",
    "# !git clone https://huggingface.co/lmsys/fastchat-t5-3b-v1.0\n",
    "# %cd .."
   ]
  },
  {
   "cell_type": "code",
   "execution_count": 26,
   "metadata": {},
   "outputs": [
    {
     "name": "stderr",
     "output_type": "stream",
     "text": [
      "You are using the default legacy behaviour of the <class 'transformers.models.t5.tokenization_t5.T5Tokenizer'>. This is expected, and simply means that the `legacy` (previous) behavior will be used so nothing changes for you. If you want to use the new behaviour, set `legacy=False`. This should only be set if you understand what it means, and thouroughly read the reason why this was added as explained in https://github.com/huggingface/transformers/pull/24565\n",
      "Special tokens have been added in the vocabulary, make sure the associated word embeddings are fine-tuned or trained.\n",
      "Special tokens have been added in the vocabulary, make sure the associated word embeddings are fine-tuned or trained.\n"
     ]
    }
   ],
   "source": [
    "from transformers import AutoTokenizer, pipeline, AutoModelForSeq2SeqLM\n",
    "from transformers import BitsAndBytesConfig\n",
    "from langchain import HuggingFacePipeline\n",
    "import torch\n",
    "\n",
    "model_id = './models/fastchat-t5-3b-v1.0/'\n",
    "\n",
    "tokenizer = AutoTokenizer.from_pretrained(\n",
    "    model_id)\n",
    "\n",
    "tokenizer.pad_token_id = tokenizer.eos_token_id\n",
    "\n",
    "bitsandbyte_config = BitsAndBytesConfig(\n",
    "    load_in_4bit = True,\n",
    "    bnb_4bit_quant_type = \"nf4\",\n",
    "    bnb_4bit_compute_dtype = torch.float16,\n",
    "    bnb_4bit_use_double_quant = True\n",
    ")\n",
    "\n",
    "model = AutoModelForSeq2SeqLM.from_pretrained(\n",
    "    model_id,\n",
    "    quantization_config = bitsandbyte_config, #caution Nvidia\n",
    "    device_map = 'auto',\n",
    "    load_in_8bit = True\n",
    ")\n",
    "\n",
    "pipe = pipeline(\n",
    "    task=\"text2text-generation\",\n",
    "    model=model,\n",
    "    tokenizer=tokenizer,\n",
    "    max_new_tokens = 256,\n",
    "    model_kwargs = {\n",
    "        \"temperature\" : 0,\n",
    "        \"repetition_penalty\": 1.5\n",
    "    }\n",
    ")\n",
    "\n",
    "llm = HuggingFacePipeline(pipeline = pipe)"
   ]
  },
  {
   "attachments": {},
   "cell_type": "markdown",
   "metadata": {},
   "source": [
    "### [Class ConversationalRetrievalChain](https://api.python.langchain.com/en/latest/_modules/langchain/chains/conversational_retrieval/base.html#ConversationalRetrievalChain)\n",
    "\n",
    "- `retriever` : Retriever to use to fetch documents.\n",
    "\n",
    "- `combine_docs_chain` : The chain used to combine any retrieved documents.\n",
    "\n",
    "- `question_generator`: The chain used to generate a new question for the sake of retrieval. This chain will take in the current question (with variable question) and any chat history (with variable chat_history) and will produce a new standalone question to be used later on.\n",
    "\n",
    "- `return_source_documents` : Return the retrieved source documents as part of the final result.\n",
    "\n",
    "- `get_chat_history` : An optional function to get a string of the chat history. If None is provided, will use a default.\n",
    "\n",
    "- `return_generated_question` : Return the generated question as part of the final result.\n",
    "\n",
    "- `response_if_no_docs_found` : If specified, the chain will return a fixed response if no docs are found for the question.\n"
   ]
  },
  {
   "attachments": {},
   "cell_type": "markdown",
   "metadata": {},
   "source": [
    "`question_generator`"
   ]
  },
  {
   "cell_type": "code",
   "execution_count": 27,
   "metadata": {},
   "outputs": [],
   "source": [
    "from langchain.chains import LLMChain\n",
    "from langchain.chains.conversational_retrieval.prompts import CONDENSE_QUESTION_PROMPT\n",
    "from langchain.memory import ConversationBufferWindowMemory\n",
    "from langchain.chains.question_answering import load_qa_chain\n",
    "from langchain.chains import ConversationalRetrievalChain"
   ]
  },
  {
   "cell_type": "code",
   "execution_count": 28,
   "metadata": {},
   "outputs": [
    {
     "data": {
      "text/plain": [
       "PromptTemplate(input_variables=['chat_history', 'question'], template='Given the following conversation and a follow up question, rephrase the follow up question to be a standalone question, in its original language.\\n\\nChat History:\\n{chat_history}\\nFollow Up Input: {question}\\nStandalone question:')"
      ]
     },
     "execution_count": 28,
     "metadata": {},
     "output_type": "execute_result"
    }
   ],
   "source": [
    "CONDENSE_QUESTION_PROMPT"
   ]
  },
  {
   "cell_type": "markdown",
   "metadata": {},
   "source": []
  },
  {
   "cell_type": "code",
   "execution_count": 29,
   "metadata": {},
   "outputs": [],
   "source": [
    "question_generator = LLMChain(\n",
    "    llm = llm,\n",
    "    prompt = CONDENSE_QUESTION_PROMPT,\n",
    "    verbose = True\n",
    ")"
   ]
  },
  {
   "cell_type": "code",
   "execution_count": 30,
   "metadata": {},
   "outputs": [
    {
     "name": "stderr",
     "output_type": "stream",
     "text": [
      "/home/neoshocker/.local/lib/python3.10/site-packages/langchain_core/_api/deprecation.py:117: LangChainDeprecationWarning: The function `__call__` was deprecated in LangChain 0.1.0 and will be removed in 0.2.0. Use invoke instead.\n",
      "  warn_deprecated(\n"
     ]
    },
    {
     "name": "stdout",
     "output_type": "stream",
     "text": [
      "\n",
      "\n",
      "\u001b[1m> Entering new LLMChain chain...\u001b[0m\n",
      "Prompt after formatting:\n",
      "\u001b[32;1m\u001b[1;3mGiven the following conversation and a follow up question, rephrase the follow up question to be a standalone question, in its original language.\n",
      "\n",
      "Chat History:\n",
      "Human:What is Machine Learning\n",
      "AI:\n",
      "Human:What is Deep Learning\n",
      "AI:\n",
      "Follow Up Input: Comparing both of them\n",
      "Standalone question:\u001b[0m\n",
      "\n",
      "\u001b[1m> Finished chain.\u001b[0m\n"
     ]
    },
    {
     "data": {
      "text/plain": [
       "{'chat_history': 'Human:What is Machine Learning\\nAI:\\nHuman:What is Deep Learning\\nAI:',\n",
       " 'question': 'Comparing both of them',\n",
       " 'text': '<pad> What  is  the  difference  between  Machine  Learning  and  Deep  Learning  AI?\\n'}"
      ]
     },
     "execution_count": 30,
     "metadata": {},
     "output_type": "execute_result"
    }
   ],
   "source": [
    "query = 'Comparing both of them'\n",
    "chat_history = \"Human:What is Machine Learning\\nAI:\\nHuman:What is Deep Learning\\nAI:\"\n",
    "\n",
    "question_generator({'chat_history' : chat_history, \"question\" : query})"
   ]
  },
  {
   "attachments": {},
   "cell_type": "markdown",
   "metadata": {},
   "source": [
    "`combine_docs_chain`"
   ]
  },
  {
   "cell_type": "code",
   "execution_count": 31,
   "metadata": {},
   "outputs": [
    {
     "data": {
      "text/plain": [
       "StuffDocumentsChain(verbose=True, llm_chain=LLMChain(verbose=True, prompt=PromptTemplate(input_variables=['context', 'question'], template=\"I'm your friendly AIT chatbot named AIT-GPT, here to assist new students who are still unfamiliar with our campus.\\n    You can ask any questions you may have about AIT's history, policies, facilities, services or any related topics.\\n    I'll be sure to answer you to the best of my ability!!\\n    Context: {context}\\n    Question: {question}\\n    Answer:\"), llm=HuggingFacePipeline(pipeline=<transformers.pipelines.text2text_generation.Text2TextGenerationPipeline object at 0x7f710d4f7b50>)), document_variable_name='context')"
      ]
     },
     "execution_count": 31,
     "metadata": {},
     "output_type": "execute_result"
    }
   ],
   "source": [
    "doc_chain = load_qa_chain(\n",
    "    llm = llm,\n",
    "    chain_type = 'stuff',\n",
    "    prompt = PROMPT,\n",
    "    verbose = True\n",
    ")\n",
    "doc_chain"
   ]
  },
  {
   "cell_type": "code",
   "execution_count": 32,
   "metadata": {
    "scrolled": true
   },
   "outputs": [
    {
     "name": "stdout",
     "output_type": "stream",
     "text": [
      "\n",
      "\n",
      "\u001b[1m> Entering new StuffDocumentsChain chain...\u001b[0m\n",
      "\n",
      "\n",
      "\u001b[1m> Entering new LLMChain chain...\u001b[0m\n",
      "Prompt after formatting:\n",
      "\u001b[32;1m\u001b[1;3mI'm your friendly AIT chatbot named AIT-GPT, here to assist new students who are still unfamiliar with our campus.\n",
      "    You can ask any questions you may have about AIT's history, policies, facilities, services or any related topics.\n",
      "    I'll be sure to answer you to the best of my ability!!\n",
      "    Context: AIT’s main campus offers fast and easy access to Bangkok, a city at the crossroads of \n",
      "East, Southeast and South Asia. AIT has also established a key learning center in \n",
      "Vietnam. \n",
      " \n",
      "With friends all over the globe, a strong history of academic excellence, and an \n",
      "enduring reputation for responding to emerging regional and global challenges such as \n",
      "climate change and sustainability, AIT is advancing new understanding and applying \n",
      "relevant technological solutions across Asia through its knowledge hub in Thailand. \n",
      " \n",
      "AIT Quick Facts \n",
      "Students: 1,400+ from 40+ countries \n",
      "Faculty: 134 internationally recruited Faculty from 20+ countries\n",
      "\n",
      "Mails \n",
      "The AIT Campus Mail Services  \n",
      "Office Hours \n",
      "The AIT Campus Mail Service Office receives all the incoming postal mails \n",
      "addressed to AIT is located at Physical Plant building adjacent to \n",
      "Accommodation Office, operates Mondays through Friday, except on AIT \n",
      "recognized holidays, from 7:30 a.m. to 4:30 p.m. (tel. 02-524-5094). For the \n",
      "students to send the postal mail, there are two post offices accessible to \n",
      "students, one within campus and other nearby the campus . \n",
      "·         Klong Luang Branch 1 Government Post Office located \n",
      "in the Administration building, operates from 9:00 a.m. to 4:00 \n",
      "p.m. Mondays through Fridays.\n",
      "\n",
      "·         The Main Post Office is located just outside the campus and \n",
      "operates from 8:30 a.m. to 4:00 p.m. (tel.: 02-516-8383). \n",
      "[O1]  Departing Persons \n",
      "All persons leaving AIT permanently are advised to leave their forwarding \n",
      "address with the AITCMS prior to their departure, if they are expecting any mail \n",
      "so that mail can be promptly forwarded to them instead of \"return to sender.\" \n",
      "Format to be followed for AIT Address: \n",
      " \n",
      "Student mail address: \n",
      "Student Name:  Student ID No.:     \n",
      " Department/Academic Program: \n",
      " \n",
      "School of              \n",
      "                          \n",
      "Asian Institute of Technology \n",
      "P.O. Box 4 \n",
      "Klong Luang Pathumthani \n",
      "12120, Thailand \n",
      "Contact no.:  \n",
      " \n",
      " AIT Reception\n",
      "\n",
      "and reports on the achievements of AIT people: faculty and students, including staff \n",
      "of the institute and centers, on important research findings, innovation, and \n",
      "publications, on major events such as the graduation, seminars, conferences, MOU \n",
      "signing ceremonies, including visits, and other stories of particular interest and \n",
      "relevance. The stories are told in written, still or moving pictures and/or in visual \n",
      "graphics across all its social media platforms and monthly e-newsletter – The \n",
      "Gazette. It also shares these stories with and answers queries from public media \n",
      "around the world. The Weekly AIT Campus Bulletin, which publicizes details of\n",
      "    Question: Where is AIT's main campus located?\n",
      "    Answer:\u001b[0m\n",
      "\n",
      "\u001b[1m> Finished chain.\u001b[0m\n",
      "\n",
      "\u001b[1m> Finished chain.\u001b[0m\n"
     ]
    },
    {
     "data": {
      "text/plain": [
       "{'input_documents': [Document(page_content='AIT’s main campus offers fast and easy access to Bangkok, a city at the crossroads of \\nEast, Southeast and South Asia. AIT has also established a key learning center in \\nVietnam. \\n \\nWith friends all over the globe, a strong history of academic excellence, and an \\nenduring reputation for responding to emerging regional and global challenges such as \\nclimate change and sustainability, AIT is advancing new understanding and applying \\nrelevant technological solutions across Asia through its knowledge hub in Thailand. \\n \\nAIT Quick Facts \\nStudents: 1,400+ from 40+ countries \\nFaculty: 134 internationally recruited Faculty from 20+ countries', metadata={'source': './docs/Student-Handbook_August-2023-Semester_FINAL_as-of-8-Aug-2023.pdf', 'file_path': './docs/Student-Handbook_August-2023-Semester_FINAL_as-of-8-Aug-2023.pdf', 'page': 2, 'total_pages': 95, 'format': 'PDF 1.4', 'title': '(\\\\(NDIJobGUID=fb11135f-67cd-4d80-beec-458427a81384\\\\)Microsoft Word - Student Handbook_August 2023 Semester_FINAL_as of 8 Aug 2023)', 'author': 'Pwint', 'subject': '', 'keywords': '', 'creator': 'PScript5.dll Version 5.2.2', 'producer': 'GPL Ghostscript 9.06', 'creationDate': \"D:20230809142824+07'00'\", 'modDate': \"D:20230809142824+07'00'\", 'trapped': ''}),\n",
       "  Document(page_content='Mails \\nThe AIT Campus Mail Services  \\nOffice Hours \\nThe AIT Campus Mail Service Office receives all the incoming postal mails \\naddressed to AIT is located at Physical Plant building adjacent to \\nAccommodation Office, operates Mondays through Friday, except on AIT \\nrecognized holidays, from 7:30 a.m. to 4:30 p.m. (tel. 02-524-5094). For the \\nstudents to send the postal mail, there are two post offices accessible to \\nstudents, one within campus and other nearby the campus . \\n·         Klong Luang Branch 1 Government Post Office located \\nin the Administration building, operates from 9:00 a.m. to 4:00 \\np.m. Mondays through Fridays.', metadata={'source': './docs/Student-Handbook_August-2023-Semester_FINAL_as-of-8-Aug-2023.pdf', 'file_path': './docs/Student-Handbook_August-2023-Semester_FINAL_as-of-8-Aug-2023.pdf', 'page': 72, 'total_pages': 95, 'format': 'PDF 1.4', 'title': '(\\\\(NDIJobGUID=fb11135f-67cd-4d80-beec-458427a81384\\\\)Microsoft Word - Student Handbook_August 2023 Semester_FINAL_as of 8 Aug 2023)', 'author': 'Pwint', 'subject': '', 'keywords': '', 'creator': 'PScript5.dll Version 5.2.2', 'producer': 'GPL Ghostscript 9.06', 'creationDate': \"D:20230809142824+07'00'\", 'modDate': \"D:20230809142824+07'00'\", 'trapped': ''}),\n",
       "  Document(page_content='·         The Main Post Office is located just outside the campus and \\noperates from 8:30 a.m. to 4:00 p.m. (tel.: 02-516-8383). \\n[O1]  Departing Persons \\nAll persons leaving AIT permanently are advised to leave their forwarding \\naddress with the AITCMS prior to their departure, if they are expecting any mail \\nso that mail can be promptly forwarded to them instead of \"return to sender.\" \\nFormat to be followed for AIT Address: \\n \\nStudent mail address: \\nStudent Name:  Student ID No.:     \\n Department/Academic Program: \\n \\nSchool of              \\n                          \\nAsian Institute of Technology \\nP.O. Box 4 \\nKlong Luang Pathumthani \\n12120, Thailand \\nContact no.:  \\n \\n AIT Reception', metadata={'source': './docs/Student-Handbook_August-2023-Semester_FINAL_as-of-8-Aug-2023.pdf', 'file_path': './docs/Student-Handbook_August-2023-Semester_FINAL_as-of-8-Aug-2023.pdf', 'page': 73, 'total_pages': 95, 'format': 'PDF 1.4', 'title': '(\\\\(NDIJobGUID=fb11135f-67cd-4d80-beec-458427a81384\\\\)Microsoft Word - Student Handbook_August 2023 Semester_FINAL_as of 8 Aug 2023)', 'author': 'Pwint', 'subject': '', 'keywords': '', 'creator': 'PScript5.dll Version 5.2.2', 'producer': 'GPL Ghostscript 9.06', 'creationDate': \"D:20230809142824+07'00'\", 'modDate': \"D:20230809142824+07'00'\", 'trapped': ''}),\n",
       "  Document(page_content='and reports on the achievements of AIT people: faculty and students, including staff \\nof the institute and centers, on important research findings, innovation, and \\npublications, on major events such as the graduation, seminars, conferences, MOU \\nsigning ceremonies, including visits, and other stories of particular interest and \\nrelevance. The stories are told in written, still or moving pictures and/or in visual \\ngraphics across all its social media platforms and monthly e-newsletter – The \\nGazette. It also shares these stories with and answers queries from public media \\naround the world. The Weekly AIT Campus Bulletin, which publicizes details of', metadata={'source': './docs/Student-Handbook_August-2023-Semester_FINAL_as-of-8-Aug-2023.pdf', 'file_path': './docs/Student-Handbook_August-2023-Semester_FINAL_as-of-8-Aug-2023.pdf', 'page': 74, 'total_pages': 95, 'format': 'PDF 1.4', 'title': '(\\\\(NDIJobGUID=fb11135f-67cd-4d80-beec-458427a81384\\\\)Microsoft Word - Student Handbook_August 2023 Semester_FINAL_as of 8 Aug 2023)', 'author': 'Pwint', 'subject': '', 'keywords': '', 'creator': 'PScript5.dll Version 5.2.2', 'producer': 'GPL Ghostscript 9.06', 'creationDate': \"D:20230809142824+07'00'\", 'modDate': \"D:20230809142824+07'00'\", 'trapped': ''})],\n",
       " 'question': \"Where is AIT's main campus located?\",\n",
       " 'output_text': '<pad>  Klong  Luang,  Pathumthani,  12120,  Thailand.\\n'}"
      ]
     },
     "execution_count": 32,
     "metadata": {},
     "output_type": "execute_result"
    }
   ],
   "source": [
    "query = \"Where is AIT's main campus located?\"\n",
    "input_document = retriever.get_relevant_documents(query)\n",
    "\n",
    "doc_chain({'input_documents':input_document, 'question':query})"
   ]
  },
  {
   "cell_type": "code",
   "execution_count": 33,
   "metadata": {},
   "outputs": [
    {
     "data": {
      "text/plain": [
       "ConversationalRetrievalChain(memory=ConversationBufferWindowMemory(output_key='answer', return_messages=True, memory_key='chat_history', k=3), verbose=True, combine_docs_chain=StuffDocumentsChain(verbose=True, llm_chain=LLMChain(verbose=True, prompt=PromptTemplate(input_variables=['context', 'question'], template=\"I'm your friendly AIT chatbot named AIT-GPT, here to assist new students who are still unfamiliar with our campus.\\n    You can ask any questions you may have about AIT's history, policies, facilities, services or any related topics.\\n    I'll be sure to answer you to the best of my ability!!\\n    Context: {context}\\n    Question: {question}\\n    Answer:\"), llm=HuggingFacePipeline(pipeline=<transformers.pipelines.text2text_generation.Text2TextGenerationPipeline object at 0x7f710d4f7b50>)), document_variable_name='context'), question_generator=LLMChain(verbose=True, prompt=PromptTemplate(input_variables=['chat_history', 'question'], template='Given the following conversation and a follow up question, rephrase the follow up question to be a standalone question, in its original language.\\n\\nChat History:\\n{chat_history}\\nFollow Up Input: {question}\\nStandalone question:'), llm=HuggingFacePipeline(pipeline=<transformers.pipelines.text2text_generation.Text2TextGenerationPipeline object at 0x7f710d4f7b50>)), return_source_documents=True, get_chat_history=<function <lambda> at 0x7f70bdc83400>, retriever=VectorStoreRetriever(tags=['FAISS', 'HuggingFaceInstructEmbeddings'], vectorstore=<langchain_community.vectorstores.faiss.FAISS object at 0x7f710e376c80>))"
      ]
     },
     "execution_count": 33,
     "metadata": {},
     "output_type": "execute_result"
    }
   ],
   "source": [
    "memory = ConversationBufferWindowMemory(\n",
    "    k=3, \n",
    "    memory_key = \"chat_history\",\n",
    "    return_messages = True,\n",
    "    output_key = 'answer'\n",
    ")\n",
    "\n",
    "chain = ConversationalRetrievalChain(\n",
    "    retriever=retriever,\n",
    "    question_generator=question_generator,\n",
    "    combine_docs_chain=doc_chain,\n",
    "    return_source_documents=True,\n",
    "    memory=memory,\n",
    "    verbose=True,\n",
    "    get_chat_history=lambda h : h\n",
    ")\n",
    "chain"
   ]
  },
  {
   "attachments": {},
   "cell_type": "markdown",
   "metadata": {},
   "source": [
    "## 5. Chatbot"
   ]
  },
  {
   "cell_type": "code",
   "execution_count": 34,
   "metadata": {},
   "outputs": [
    {
     "name": "stdout",
     "output_type": "stream",
     "text": [
      "\n",
      "\n",
      "\u001b[1m> Entering new ConversationalRetrievalChain chain...\u001b[0m\n",
      "\n",
      "\n",
      "\u001b[1m> Entering new StuffDocumentsChain chain...\u001b[0m\n",
      "\n",
      "\n",
      "\u001b[1m> Entering new LLMChain chain...\u001b[0m\n",
      "Prompt after formatting:\n",
      "\u001b[32;1m\u001b[1;3mI'm your friendly AIT chatbot named AIT-GPT, here to assist new students who are still unfamiliar with our campus.\n",
      "    You can ask any questions you may have about AIT's history, policies, facilities, services or any related topics.\n",
      "    I'll be sure to answer you to the best of my ability!!\n",
      "    Context: involved in the claimed harassment, abuse or discrimination, and acceptable to \n",
      "both sides, (probably, though not exclusively, someone from the list in Section \n",
      "C-2.3 above). The agreed individual(s) will meet privately and/or together with \n",
      "each of the sides involved, attempting to clarify their perceptions, and to reach \n",
      "a mutually- acceptable understanding for their future interactions. Outcomes of\n",
      "\n",
      "(https://www.ait.ac.th). For content updates, please send an email to Public Affairs. \n",
      "  \n",
      "Contact: Public Affairs office is located on the second floor of the Administration \n",
      "Building. \n",
      "Phone:02-524-5830 \n",
      "Email: opa@ait.ac.th\n",
      "\n",
      "Institute, and for treating them fairly, regardless of nationality, race, social \n",
      "background, gender, age, marital status, family status, sexual orientation, \n",
      "disability, economic status, or political belief or affiliation. \n",
      "8. Students are responsible for sincerely performing every course evaluation. \n",
      "9. Students are responsible to plan their own work loads, so that they complete \n",
      "all assignments by the due dates. Students are responsible for ensuring that \n",
      "they develop sensible work patterns to complete the assigned work. \n",
      "10. While students have the right to freedom of expression, including the right to \n",
      "dissent, protest, or take reasoned exception to the information and views\n",
      "\n",
      "Dean, School of Management \n",
      "02-524-5657 \n",
      "Director, Academic Administration \n",
      "02-524-6304 \n",
      "Acting Director, Student \n",
      "Affairs/Registry/Admissions \n",
      "02-524-5024 \n",
      "Scholarships \n",
      "02-524-5012 \n",
      "Career Center and Student Welfare Unit \n",
      "02-524-6326, 02-524-6744\n",
      "    Question: Who are you by the way?\n",
      "    Answer:\u001b[0m\n",
      "\n",
      "\u001b[1m> Finished chain.\u001b[0m\n",
      "\n",
      "\u001b[1m> Finished chain.\u001b[0m\n",
      "\n",
      "\u001b[1m> Finished chain.\u001b[0m\n"
     ]
    },
    {
     "data": {
      "text/plain": [
       "{'question': 'Who are you by the way?',\n",
       " 'chat_history': [],\n",
       " 'answer': \"<pad> I  am  an  AI  chatbot  named  AIT-GPT,  I  am  here  to  assist  new  students  who  are  still  unfamiliar  with  AIT's  campus.  I  am  here  to  answer  any  questions  you  may  have  about  AIT's  history,  policies,  facilities,  services  or  any  related  topics.  I'll  be  sure  to  answer  you  to  the  best  of  my  ability!!\\n\",\n",
       " 'source_documents': [Document(page_content='involved in the claimed harassment, abuse or discrimination, and acceptable to \\nboth sides, (probably, though not exclusively, someone from the list in Section \\nC-2.3 above). The agreed individual(s) will meet privately and/or together with \\neach of the sides involved, attempting to clarify their perceptions, and to reach \\na mutually- acceptable understanding for their future interactions. Outcomes of', metadata={'source': './docs/Student-Handbook_August-2023-Semester_FINAL_as-of-8-Aug-2023.pdf', 'file_path': './docs/Student-Handbook_August-2023-Semester_FINAL_as-of-8-Aug-2023.pdf', 'page': 38, 'total_pages': 95, 'format': 'PDF 1.4', 'title': '(\\\\(NDIJobGUID=fb11135f-67cd-4d80-beec-458427a81384\\\\)Microsoft Word - Student Handbook_August 2023 Semester_FINAL_as of 8 Aug 2023)', 'author': 'Pwint', 'subject': '', 'keywords': '', 'creator': 'PScript5.dll Version 5.2.2', 'producer': 'GPL Ghostscript 9.06', 'creationDate': \"D:20230809142824+07'00'\", 'modDate': \"D:20230809142824+07'00'\", 'trapped': ''}),\n",
       "  Document(page_content='(https://www.ait.ac.th). For content updates, please send an email to Public Affairs. \\n  \\nContact: Public Affairs office is located on the second floor of the Administration \\nBuilding. \\nPhone:02-524-5830 \\nEmail: opa@ait.ac.th', metadata={'source': './docs/Student-Handbook_August-2023-Semester_FINAL_as-of-8-Aug-2023.pdf', 'file_path': './docs/Student-Handbook_August-2023-Semester_FINAL_as-of-8-Aug-2023.pdf', 'page': 74, 'total_pages': 95, 'format': 'PDF 1.4', 'title': '(\\\\(NDIJobGUID=fb11135f-67cd-4d80-beec-458427a81384\\\\)Microsoft Word - Student Handbook_August 2023 Semester_FINAL_as of 8 Aug 2023)', 'author': 'Pwint', 'subject': '', 'keywords': '', 'creator': 'PScript5.dll Version 5.2.2', 'producer': 'GPL Ghostscript 9.06', 'creationDate': \"D:20230809142824+07'00'\", 'modDate': \"D:20230809142824+07'00'\", 'trapped': ''}),\n",
       "  Document(page_content='Institute, and for treating them fairly, regardless of nationality, race, social \\nbackground, gender, age, marital status, family status, sexual orientation, \\ndisability, economic status, or political belief or affiliation. \\n8. Students are responsible for sincerely performing every course evaluation. \\n9. Students are responsible to plan their own work loads, so that they complete \\nall assignments by the due dates. Students are responsible for ensuring that \\nthey develop sensible work patterns to complete the assigned work. \\n10. While students have the right to freedom of expression, including the right to \\ndissent, protest, or take reasoned exception to the information and views', metadata={'source': './docs/Student-Handbook_August-2023-Semester_FINAL_as-of-8-Aug-2023.pdf', 'file_path': './docs/Student-Handbook_August-2023-Semester_FINAL_as-of-8-Aug-2023.pdf', 'page': 5, 'total_pages': 95, 'format': 'PDF 1.4', 'title': '(\\\\(NDIJobGUID=fb11135f-67cd-4d80-beec-458427a81384\\\\)Microsoft Word - Student Handbook_August 2023 Semester_FINAL_as of 8 Aug 2023)', 'author': 'Pwint', 'subject': '', 'keywords': '', 'creator': 'PScript5.dll Version 5.2.2', 'producer': 'GPL Ghostscript 9.06', 'creationDate': \"D:20230809142824+07'00'\", 'modDate': \"D:20230809142824+07'00'\", 'trapped': ''}),\n",
       "  Document(page_content='Dean, School of Management \\n02-524-5657 \\nDirector, Academic Administration \\n02-524-6304 \\nActing Director, Student \\nAffairs/Registry/Admissions \\n02-524-5024 \\nScholarships \\n02-524-5012 \\nCareer Center and Student Welfare Unit \\n02-524-6326, 02-524-6744', metadata={'source': './docs/Student-Handbook_August-2023-Semester_FINAL_as-of-8-Aug-2023.pdf', 'file_path': './docs/Student-Handbook_August-2023-Semester_FINAL_as-of-8-Aug-2023.pdf', 'page': 94, 'total_pages': 95, 'format': 'PDF 1.4', 'title': '(\\\\(NDIJobGUID=fb11135f-67cd-4d80-beec-458427a81384\\\\)Microsoft Word - Student Handbook_August 2023 Semester_FINAL_as of 8 Aug 2023)', 'author': 'Pwint', 'subject': '', 'keywords': '', 'creator': 'PScript5.dll Version 5.2.2', 'producer': 'GPL Ghostscript 9.06', 'creationDate': \"D:20230809142824+07'00'\", 'modDate': \"D:20230809142824+07'00'\", 'trapped': ''})]}"
      ]
     },
     "execution_count": 34,
     "metadata": {},
     "output_type": "execute_result"
    }
   ],
   "source": [
    "prompt_question = \"Who are you by the way?\"\n",
    "answer = chain({\"question\":prompt_question})\n",
    "answer"
   ]
  },
  {
   "cell_type": "code",
   "execution_count": 35,
   "metadata": {},
   "outputs": [
    {
     "name": "stdout",
     "output_type": "stream",
     "text": [
      "\n",
      "\n",
      "\u001b[1m> Entering new ConversationalRetrievalChain chain...\u001b[0m\n",
      "\n",
      "\n",
      "\u001b[1m> Entering new LLMChain chain...\u001b[0m\n",
      "Prompt after formatting:\n",
      "\u001b[32;1m\u001b[1;3mGiven the following conversation and a follow up question, rephrase the follow up question to be a standalone question, in its original language.\n",
      "\n",
      "Chat History:\n",
      "[HumanMessage(content='Who are you by the way?'), AIMessage(content=\"<pad> I  am  an  AI  chatbot  named  AIT-GPT,  I  am  here  to  assist  new  students  who  are  still  unfamiliar  with  AIT's  campus.  I  am  here  to  answer  any  questions  you  may  have  about  AIT's  history,  policies,  facilities,  services  or  any  related  topics.  I'll  be  sure  to  answer  you  to  the  best  of  my  ability!!\\n\")]\n",
      "Follow Up Input: Where is AIT's main campus located?\n",
      "Standalone question:\u001b[0m\n",
      "\n",
      "\u001b[1m> Finished chain.\u001b[0m\n",
      "\n",
      "\n",
      "\u001b[1m> Entering new StuffDocumentsChain chain...\u001b[0m\n",
      "\n",
      "\n",
      "\u001b[1m> Entering new LLMChain chain...\u001b[0m\n",
      "Prompt after formatting:\n",
      "\u001b[32;1m\u001b[1;3mI'm your friendly AIT chatbot named AIT-GPT, here to assist new students who are still unfamiliar with our campus.\n",
      "    You can ask any questions you may have about AIT's history, policies, facilities, services or any related topics.\n",
      "    I'll be sure to answer you to the best of my ability!!\n",
      "    Context: AIT’s main campus offers fast and easy access to Bangkok, a city at the crossroads of \n",
      "East, Southeast and South Asia. AIT has also established a key learning center in \n",
      "Vietnam. \n",
      " \n",
      "With friends all over the globe, a strong history of academic excellence, and an \n",
      "enduring reputation for responding to emerging regional and global challenges such as \n",
      "climate change and sustainability, AIT is advancing new understanding and applying \n",
      "relevant technological solutions across Asia through its knowledge hub in Thailand. \n",
      " \n",
      "AIT Quick Facts \n",
      "Students: 1,400+ from 40+ countries \n",
      "Faculty: 134 internationally recruited Faculty from 20+ countries\n",
      "\n",
      "Mails \n",
      "The AIT Campus Mail Services  \n",
      "Office Hours \n",
      "The AIT Campus Mail Service Office receives all the incoming postal mails \n",
      "addressed to AIT is located at Physical Plant building adjacent to \n",
      "Accommodation Office, operates Mondays through Friday, except on AIT \n",
      "recognized holidays, from 7:30 a.m. to 4:30 p.m. (tel. 02-524-5094). For the \n",
      "students to send the postal mail, there are two post offices accessible to \n",
      "students, one within campus and other nearby the campus . \n",
      "·         Klong Luang Branch 1 Government Post Office located \n",
      "in the Administration building, operates from 9:00 a.m. to 4:00 \n",
      "p.m. Mondays through Fridays.\n",
      "\n",
      "·         The Main Post Office is located just outside the campus and \n",
      "operates from 8:30 a.m. to 4:00 p.m. (tel.: 02-516-8383). \n",
      "[O1]  Departing Persons \n",
      "All persons leaving AIT permanently are advised to leave their forwarding \n",
      "address with the AITCMS prior to their departure, if they are expecting any mail \n",
      "so that mail can be promptly forwarded to them instead of \"return to sender.\" \n",
      "Format to be followed for AIT Address: \n",
      " \n",
      "Student mail address: \n",
      "Student Name:  Student ID No.:     \n",
      " Department/Academic Program: \n",
      " \n",
      "School of              \n",
      "                          \n",
      "Asian Institute of Technology \n",
      "P.O. Box 4 \n",
      "Klong Luang Pathumthani \n",
      "12120, Thailand \n",
      "Contact no.:  \n",
      " \n",
      " AIT Reception\n",
      "\n",
      "I. INTRODUCING AIT \n",
      " \n",
      " \n",
      "The Asian Institute of Technology (AIT) is a leading international higher learning \n",
      "institute of engineering and technology, environment, resources and development, and \n",
      "management. \n",
      " \n",
      "AIT offers the opportunity to study at an advanced international level at an Asian \n",
      "institution with a strong reputation for applied research. Many progressive \n",
      "developments in the application of engineering, technology, management, and \n",
      "sustainable development have originated at AIT. \n",
      " \n",
      "At its beautiful main campus located just north of Bangkok, Thailand, AIT operates as \n",
      "a self-contained international community with a cosmopolitan approach to living and \n",
      "learning.\n",
      "    Question: <pad>  Where  is  AIT's  main  campus  located?\n",
      "\n",
      "    Answer:\u001b[0m\n",
      "\n",
      "\u001b[1m> Finished chain.\u001b[0m\n",
      "\n",
      "\u001b[1m> Finished chain.\u001b[0m\n",
      "\n",
      "\u001b[1m> Finished chain.\u001b[0m\n"
     ]
    },
    {
     "data": {
      "text/plain": [
       "{'question': \"Where is AIT's main campus located?\",\n",
       " 'chat_history': [HumanMessage(content='Who are you by the way?'),\n",
       "  AIMessage(content=\"<pad> I  am  an  AI  chatbot  named  AIT-GPT,  I  am  here  to  assist  new  students  who  are  still  unfamiliar  with  AIT's  campus.  I  am  here  to  answer  any  questions  you  may  have  about  AIT's  history,  policies,  facilities,  services  or  any  related  topics.  I'll  be  sure  to  answer  you  to  the  best  of  my  ability!!\\n\")],\n",
       " 'answer': '<pad>  just  north  of  Bangkok,  Thailand\\n',\n",
       " 'source_documents': [Document(page_content='AIT’s main campus offers fast and easy access to Bangkok, a city at the crossroads of \\nEast, Southeast and South Asia. AIT has also established a key learning center in \\nVietnam. \\n \\nWith friends all over the globe, a strong history of academic excellence, and an \\nenduring reputation for responding to emerging regional and global challenges such as \\nclimate change and sustainability, AIT is advancing new understanding and applying \\nrelevant technological solutions across Asia through its knowledge hub in Thailand. \\n \\nAIT Quick Facts \\nStudents: 1,400+ from 40+ countries \\nFaculty: 134 internationally recruited Faculty from 20+ countries', metadata={'source': './docs/Student-Handbook_August-2023-Semester_FINAL_as-of-8-Aug-2023.pdf', 'file_path': './docs/Student-Handbook_August-2023-Semester_FINAL_as-of-8-Aug-2023.pdf', 'page': 2, 'total_pages': 95, 'format': 'PDF 1.4', 'title': '(\\\\(NDIJobGUID=fb11135f-67cd-4d80-beec-458427a81384\\\\)Microsoft Word - Student Handbook_August 2023 Semester_FINAL_as of 8 Aug 2023)', 'author': 'Pwint', 'subject': '', 'keywords': '', 'creator': 'PScript5.dll Version 5.2.2', 'producer': 'GPL Ghostscript 9.06', 'creationDate': \"D:20230809142824+07'00'\", 'modDate': \"D:20230809142824+07'00'\", 'trapped': ''}),\n",
       "  Document(page_content='Mails \\nThe AIT Campus Mail Services  \\nOffice Hours \\nThe AIT Campus Mail Service Office receives all the incoming postal mails \\naddressed to AIT is located at Physical Plant building adjacent to \\nAccommodation Office, operates Mondays through Friday, except on AIT \\nrecognized holidays, from 7:30 a.m. to 4:30 p.m. (tel. 02-524-5094). For the \\nstudents to send the postal mail, there are two post offices accessible to \\nstudents, one within campus and other nearby the campus . \\n·         Klong Luang Branch 1 Government Post Office located \\nin the Administration building, operates from 9:00 a.m. to 4:00 \\np.m. Mondays through Fridays.', metadata={'source': './docs/Student-Handbook_August-2023-Semester_FINAL_as-of-8-Aug-2023.pdf', 'file_path': './docs/Student-Handbook_August-2023-Semester_FINAL_as-of-8-Aug-2023.pdf', 'page': 72, 'total_pages': 95, 'format': 'PDF 1.4', 'title': '(\\\\(NDIJobGUID=fb11135f-67cd-4d80-beec-458427a81384\\\\)Microsoft Word - Student Handbook_August 2023 Semester_FINAL_as of 8 Aug 2023)', 'author': 'Pwint', 'subject': '', 'keywords': '', 'creator': 'PScript5.dll Version 5.2.2', 'producer': 'GPL Ghostscript 9.06', 'creationDate': \"D:20230809142824+07'00'\", 'modDate': \"D:20230809142824+07'00'\", 'trapped': ''}),\n",
       "  Document(page_content='·         The Main Post Office is located just outside the campus and \\noperates from 8:30 a.m. to 4:00 p.m. (tel.: 02-516-8383). \\n[O1]  Departing Persons \\nAll persons leaving AIT permanently are advised to leave their forwarding \\naddress with the AITCMS prior to their departure, if they are expecting any mail \\nso that mail can be promptly forwarded to them instead of \"return to sender.\" \\nFormat to be followed for AIT Address: \\n \\nStudent mail address: \\nStudent Name:  Student ID No.:     \\n Department/Academic Program: \\n \\nSchool of              \\n                          \\nAsian Institute of Technology \\nP.O. Box 4 \\nKlong Luang Pathumthani \\n12120, Thailand \\nContact no.:  \\n \\n AIT Reception', metadata={'source': './docs/Student-Handbook_August-2023-Semester_FINAL_as-of-8-Aug-2023.pdf', 'file_path': './docs/Student-Handbook_August-2023-Semester_FINAL_as-of-8-Aug-2023.pdf', 'page': 73, 'total_pages': 95, 'format': 'PDF 1.4', 'title': '(\\\\(NDIJobGUID=fb11135f-67cd-4d80-beec-458427a81384\\\\)Microsoft Word - Student Handbook_August 2023 Semester_FINAL_as of 8 Aug 2023)', 'author': 'Pwint', 'subject': '', 'keywords': '', 'creator': 'PScript5.dll Version 5.2.2', 'producer': 'GPL Ghostscript 9.06', 'creationDate': \"D:20230809142824+07'00'\", 'modDate': \"D:20230809142824+07'00'\", 'trapped': ''}),\n",
       "  Document(page_content='I. INTRODUCING AIT \\n \\n \\nThe Asian Institute of Technology (AIT) is a leading international higher learning \\ninstitute of engineering and technology, environment, resources and development, and \\nmanagement. \\n \\nAIT offers the opportunity to study at an advanced international level at an Asian \\ninstitution with a strong reputation for applied research. Many progressive \\ndevelopments in the application of engineering, technology, management, and \\nsustainable development have originated at AIT. \\n \\nAt its beautiful main campus located just north of Bangkok, Thailand, AIT operates as \\na self-contained international community with a cosmopolitan approach to living and \\nlearning.', metadata={'source': './docs/Student-Handbook_August-2023-Semester_FINAL_as-of-8-Aug-2023.pdf', 'file_path': './docs/Student-Handbook_August-2023-Semester_FINAL_as-of-8-Aug-2023.pdf', 'page': 2, 'total_pages': 95, 'format': 'PDF 1.4', 'title': '(\\\\(NDIJobGUID=fb11135f-67cd-4d80-beec-458427a81384\\\\)Microsoft Word - Student Handbook_August 2023 Semester_FINAL_as of 8 Aug 2023)', 'author': 'Pwint', 'subject': '', 'keywords': '', 'creator': 'PScript5.dll Version 5.2.2', 'producer': 'GPL Ghostscript 9.06', 'creationDate': \"D:20230809142824+07'00'\", 'modDate': \"D:20230809142824+07'00'\", 'trapped': ''})]}"
      ]
     },
     "execution_count": 35,
     "metadata": {},
     "output_type": "execute_result"
    }
   ],
   "source": [
    "prompt_question = \"Where is AIT's main campus located?\"\n",
    "answer = chain({\"question\": prompt_question})\n",
    "answer"
   ]
  },
  {
   "cell_type": "code",
   "execution_count": 36,
   "metadata": {},
   "outputs": [
    {
     "name": "stdout",
     "output_type": "stream",
     "text": [
      "\n",
      "\n",
      "\u001b[1m> Entering new ConversationalRetrievalChain chain...\u001b[0m\n",
      "\n",
      "\n",
      "\u001b[1m> Entering new LLMChain chain...\u001b[0m\n",
      "Prompt after formatting:\n",
      "\u001b[32;1m\u001b[1;3mGiven the following conversation and a follow up question, rephrase the follow up question to be a standalone question, in its original language.\n",
      "\n",
      "Chat History:\n",
      "[HumanMessage(content='Who are you by the way?'), AIMessage(content=\"<pad> I  am  an  AI  chatbot  named  AIT-GPT,  I  am  here  to  assist  new  students  who  are  still  unfamiliar  with  AIT's  campus.  I  am  here  to  answer  any  questions  you  may  have  about  AIT's  history,  policies,  facilities,  services  or  any  related  topics.  I'll  be  sure  to  answer  you  to  the  best  of  my  ability!!\\n\"), HumanMessage(content=\"Where is AIT's main campus located?\"), AIMessage(content='<pad>  just  north  of  Bangkok,  Thailand\\n')]\n",
      "Follow Up Input: Does it have any other campus?\n",
      "Standalone question:\u001b[0m\n",
      "\n",
      "\u001b[1m> Finished chain.\u001b[0m\n",
      "\n",
      "\n",
      "\u001b[1m> Entering new StuffDocumentsChain chain...\u001b[0m\n",
      "\n",
      "\n",
      "\u001b[1m> Entering new LLMChain chain...\u001b[0m\n",
      "Prompt after formatting:\n",
      "\u001b[32;1m\u001b[1;3mI'm your friendly AIT chatbot named AIT-GPT, here to assist new students who are still unfamiliar with our campus.\n",
      "    You can ask any questions you may have about AIT's history, policies, facilities, services or any related topics.\n",
      "    I'll be sure to answer you to the best of my ability!!\n",
      "    Context: AIT’s main campus offers fast and easy access to Bangkok, a city at the crossroads of \n",
      "East, Southeast and South Asia. AIT has also established a key learning center in \n",
      "Vietnam. \n",
      " \n",
      "With friends all over the globe, a strong history of academic excellence, and an \n",
      "enduring reputation for responding to emerging regional and global challenges such as \n",
      "climate change and sustainability, AIT is advancing new understanding and applying \n",
      "relevant technological solutions across Asia through its knowledge hub in Thailand. \n",
      " \n",
      "AIT Quick Facts \n",
      "Students: 1,400+ from 40+ countries \n",
      "Faculty: 134 internationally recruited Faculty from 20+ countries\n",
      "\n",
      "level teaching, research and outreach to meet regional needs. The aim is to promote \n",
      "collegiality and to develop a harmonious and supportive environment for study, work \n",
      "and living. \n",
      " \n",
      "This intention will be realized through the observance by all members of the AIT \n",
      "community, trustees, faculty, staff, and students including outreach program \n",
      "participants, of the following general principles, when on campus, at Institute outreach \n",
      "centers and at the venues of official Institute activities off-campus: \n",
      " \n",
      "1. Every member of the AIT community has a duty to help create and sustain an \n",
      "environment which is honest, fair and unprejudiced, founded on equality and\n",
      "\n",
      "IX. STUDENT ORGANIZATIONS \n",
      " \n",
      " \n",
      "AIT Student Union \n",
      " \n",
      "The Student Union (SU) of AIT promotes the interests and welfare of the student \n",
      "body, promotes gender equity and equality, and promotes awareness of the \n",
      "international atmosphere on AIT campus. The Student Union facilitates the \n",
      "organization of several activities off and on-campus. It provides opportunities \n",
      "for cultural and non-cultural interaction among AIT community members \n",
      "through its varied activities after being exhausted from the rigors of academic \n",
      "life. Students’ sole representation, the AIT Student Union is committed to the \n",
      "pursuit of a high level of academic, non-academic, extracurricular, cultural,\n",
      "\n",
      "and reports on the achievements of AIT people: faculty and students, including staff \n",
      "of the institute and centers, on important research findings, innovation, and \n",
      "publications, on major events such as the graduation, seminars, conferences, MOU \n",
      "signing ceremonies, including visits, and other stories of particular interest and \n",
      "relevance. The stories are told in written, still or moving pictures and/or in visual \n",
      "graphics across all its social media platforms and monthly e-newsletter – The \n",
      "Gazette. It also shares these stories with and answers queries from public media \n",
      "around the world. The Weekly AIT Campus Bulletin, which publicizes details of\n",
      "    Question: <pad>  Does  AIT  have  any  other  campus?\n",
      "\n",
      "    Answer:\u001b[0m\n",
      "\n",
      "\u001b[1m> Finished chain.\u001b[0m\n",
      "\n",
      "\u001b[1m> Finished chain.\u001b[0m\n",
      "\n",
      "\u001b[1m> Finished chain.\u001b[0m\n"
     ]
    },
    {
     "data": {
      "text/plain": [
       "{'question': 'Does it have any other campus?',\n",
       " 'chat_history': [HumanMessage(content='Who are you by the way?'),\n",
       "  AIMessage(content=\"<pad> I  am  an  AI  chatbot  named  AIT-GPT,  I  am  here  to  assist  new  students  who  are  still  unfamiliar  with  AIT's  campus.  I  am  here  to  answer  any  questions  you  may  have  about  AIT's  history,  policies,  facilities,  services  or  any  related  topics.  I'll  be  sure  to  answer  you  to  the  best  of  my  ability!!\\n\"),\n",
       "  HumanMessage(content=\"Where is AIT's main campus located?\"),\n",
       "  AIMessage(content='<pad>  just  north  of  Bangkok,  Thailand\\n')],\n",
       " 'answer': '<pad> Yes,  AIT  has  established  a  key  learning  center  in  Vietnam.\\n',\n",
       " 'source_documents': [Document(page_content='AIT’s main campus offers fast and easy access to Bangkok, a city at the crossroads of \\nEast, Southeast and South Asia. AIT has also established a key learning center in \\nVietnam. \\n \\nWith friends all over the globe, a strong history of academic excellence, and an \\nenduring reputation for responding to emerging regional and global challenges such as \\nclimate change and sustainability, AIT is advancing new understanding and applying \\nrelevant technological solutions across Asia through its knowledge hub in Thailand. \\n \\nAIT Quick Facts \\nStudents: 1,400+ from 40+ countries \\nFaculty: 134 internationally recruited Faculty from 20+ countries', metadata={'source': './docs/Student-Handbook_August-2023-Semester_FINAL_as-of-8-Aug-2023.pdf', 'file_path': './docs/Student-Handbook_August-2023-Semester_FINAL_as-of-8-Aug-2023.pdf', 'page': 2, 'total_pages': 95, 'format': 'PDF 1.4', 'title': '(\\\\(NDIJobGUID=fb11135f-67cd-4d80-beec-458427a81384\\\\)Microsoft Word - Student Handbook_August 2023 Semester_FINAL_as of 8 Aug 2023)', 'author': 'Pwint', 'subject': '', 'keywords': '', 'creator': 'PScript5.dll Version 5.2.2', 'producer': 'GPL Ghostscript 9.06', 'creationDate': \"D:20230809142824+07'00'\", 'modDate': \"D:20230809142824+07'00'\", 'trapped': ''}),\n",
       "  Document(page_content='level teaching, research and outreach to meet regional needs. The aim is to promote \\ncollegiality and to develop a harmonious and supportive environment for study, work \\nand living. \\n \\nThis intention will be realized through the observance by all members of the AIT \\ncommunity, trustees, faculty, staff, and students including outreach program \\nparticipants, of the following general principles, when on campus, at Institute outreach \\ncenters and at the venues of official Institute activities off-campus: \\n \\n1. Every member of the AIT community has a duty to help create and sustain an \\nenvironment which is honest, fair and unprejudiced, founded on equality and', metadata={'source': './docs/Student-Handbook_August-2023-Semester_FINAL_as-of-8-Aug-2023.pdf', 'file_path': './docs/Student-Handbook_August-2023-Semester_FINAL_as-of-8-Aug-2023.pdf', 'page': 34, 'total_pages': 95, 'format': 'PDF 1.4', 'title': '(\\\\(NDIJobGUID=fb11135f-67cd-4d80-beec-458427a81384\\\\)Microsoft Word - Student Handbook_August 2023 Semester_FINAL_as of 8 Aug 2023)', 'author': 'Pwint', 'subject': '', 'keywords': '', 'creator': 'PScript5.dll Version 5.2.2', 'producer': 'GPL Ghostscript 9.06', 'creationDate': \"D:20230809142824+07'00'\", 'modDate': \"D:20230809142824+07'00'\", 'trapped': ''}),\n",
       "  Document(page_content='IX. STUDENT ORGANIZATIONS \\n \\n \\nAIT Student Union \\n \\nThe Student Union (SU) of AIT promotes the interests and welfare of the student \\nbody, promotes gender equity and equality, and promotes awareness of the \\ninternational atmosphere on AIT campus. The Student Union facilitates the \\norganization of several activities off and on-campus. It provides opportunities \\nfor cultural and non-cultural interaction among AIT community members \\nthrough its varied activities after being exhausted from the rigors of academic \\nlife. Students’ sole representation, the AIT Student Union is committed to the \\npursuit of a high level of academic, non-academic, extracurricular, cultural,', metadata={'source': './docs/Student-Handbook_August-2023-Semester_FINAL_as-of-8-Aug-2023.pdf', 'file_path': './docs/Student-Handbook_August-2023-Semester_FINAL_as-of-8-Aug-2023.pdf', 'page': 46, 'total_pages': 95, 'format': 'PDF 1.4', 'title': '(\\\\(NDIJobGUID=fb11135f-67cd-4d80-beec-458427a81384\\\\)Microsoft Word - Student Handbook_August 2023 Semester_FINAL_as of 8 Aug 2023)', 'author': 'Pwint', 'subject': '', 'keywords': '', 'creator': 'PScript5.dll Version 5.2.2', 'producer': 'GPL Ghostscript 9.06', 'creationDate': \"D:20230809142824+07'00'\", 'modDate': \"D:20230809142824+07'00'\", 'trapped': ''}),\n",
       "  Document(page_content='and reports on the achievements of AIT people: faculty and students, including staff \\nof the institute and centers, on important research findings, innovation, and \\npublications, on major events such as the graduation, seminars, conferences, MOU \\nsigning ceremonies, including visits, and other stories of particular interest and \\nrelevance. The stories are told in written, still or moving pictures and/or in visual \\ngraphics across all its social media platforms and monthly e-newsletter – The \\nGazette. It also shares these stories with and answers queries from public media \\naround the world. The Weekly AIT Campus Bulletin, which publicizes details of', metadata={'source': './docs/Student-Handbook_August-2023-Semester_FINAL_as-of-8-Aug-2023.pdf', 'file_path': './docs/Student-Handbook_August-2023-Semester_FINAL_as-of-8-Aug-2023.pdf', 'page': 74, 'total_pages': 95, 'format': 'PDF 1.4', 'title': '(\\\\(NDIJobGUID=fb11135f-67cd-4d80-beec-458427a81384\\\\)Microsoft Word - Student Handbook_August 2023 Semester_FINAL_as of 8 Aug 2023)', 'author': 'Pwint', 'subject': '', 'keywords': '', 'creator': 'PScript5.dll Version 5.2.2', 'producer': 'GPL Ghostscript 9.06', 'creationDate': \"D:20230809142824+07'00'\", 'modDate': \"D:20230809142824+07'00'\", 'trapped': ''})]}"
      ]
     },
     "execution_count": 36,
     "metadata": {},
     "output_type": "execute_result"
    }
   ],
   "source": [
    "prompt_question = \"Does it have any other campus?\"\n",
    "answer = chain({\"question\":prompt_question})\n",
    "answer"
   ]
  },
  {
   "cell_type": "code",
   "execution_count": null,
   "metadata": {},
   "outputs": [],
   "source": []
  }
 ],
 "metadata": {
  "kernelspec": {
   "display_name": "Python 3 (ipykernel)",
   "language": "python",
   "name": "python3"
  },
  "language_info": {
   "codemirror_mode": {
    "name": "ipython",
    "version": 3
   },
   "file_extension": ".py",
   "mimetype": "text/x-python",
   "name": "python",
   "nbconvert_exporter": "python",
   "pygments_lexer": "ipython3",
   "version": "3.10.12"
  }
 },
 "nbformat": 4,
 "nbformat_minor": 4
}
